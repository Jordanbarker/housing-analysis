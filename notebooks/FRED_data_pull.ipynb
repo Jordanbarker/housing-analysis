{
 "cells": [
  {
   "cell_type": "code",
   "execution_count": 7,
   "metadata": {},
   "outputs": [],
   "source": [
    "import os\n",
    "import requests\n",
    "import pandas as pd\n",
    "from dotenv import load_dotenv\n",
    "\n",
    "# Load environment variables from .env file\n",
    "load_dotenv()\n",
    "\n",
    "# Access the API key\n",
    "api_key = os.getenv(\"FRED_API_KEY\")\n",
    "# api_key = os.getenv(\"FRED_API_KEY\")\n",
    "\n",
    "if api_key is None:\n",
    "    raise ValueError(\"FRED_API_KEY environment variable not set.\")"
   ]
  },
  {
   "cell_type": "code",
   "execution_count": 16,
   "metadata": {},
   "outputs": [],
   "source": [
    "# Define the function to fetch data from FRED API for a list of series IDs\n",
    "def fetch_fred_data(series_id, api_key):\n",
    "    base_url = f\"https://api.stlouisfed.org/fred/series/observations\"\n",
    "    params = {\n",
    "        'series_id': series_id,\n",
    "        'api_key': api_key,\n",
    "        'file_type': 'json'\n",
    "    }\n",
    "    response = requests.get(base_url, params=params)\n",
    "\n",
    "    if response.status_code == 200:\n",
    "        data = response.json()['observations']\n",
    "        df = pd.DataFrame(data)\n",
    "        # When downloading from the website, the data is saved as: \n",
    "        # DATE | series_id \n",
    "        df['DATE'] = pd.to_datetime(df['date'])\n",
    "        df[f'{series_id}'] = pd.to_numeric(df['value'], errors='coerce')\n",
    "        return df[['DATE', f'{series_id}']].copy()\n",
    "    else:\n",
    "        print(f\"Error fetching data for {series_id}: {response.status_code}\")\n",
    "        return None\n",
    "    \n",
    "def compare_and_update_data(series_id, new_data, data_path):\n",
    "    file_path = os.path.join(data_path, f\"{series_id}.csv\")\n",
    "\n",
    "    # Check if the file exists\n",
    "    if os.path.exists(file_path):\n",
    "        # Load existing data\n",
    "        existing_data = pd.read_csv(file_path)\n",
    "        existing_data['DATE'] = pd.to_datetime(existing_data['DATE'])\n",
    "\n",
    "        # Find the most recent date in the existing data\n",
    "        last_existing_date = existing_data['DATE'].max()\n",
    "\n",
    "        # Compare with the latest data from FRED\n",
    "        last_new_date = new_data['DATE'].max()\n",
    "\n",
    "        if last_new_date > last_existing_date:\n",
    "            print(f\"New data found for {series_id}. Updating file.\")\n",
    "            # Save the new data to the CSV file, replacing the old file\n",
    "            new_data.to_csv(file_path, index=False)\n",
    "        else:\n",
    "            # print(f\"No new data for {series_id}.\")\n",
    "            pass\n",
    "    else:\n",
    "        # If file doesn't exist, save the new data\n",
    "        print(f\"No existing data for {series_id}. Creating new file.\")\n",
    "        new_data.to_csv(file_path, index=False)\n",
    "\n",
    "# Main function to process a list of series IDs\n",
    "def process_series_ids(series_ids, api_key, data_path=\"./data/FRED\"):\n",
    "    for series_id in series_ids:\n",
    "        # Fetch data for each series ID\n",
    "        new_data = fetch_fred_data(series_id, api_key)\n",
    "        if new_data is not None:\n",
    "            # Compare and update data files\n",
    "            compare_and_update_data(series_id, new_data, data_path)"
   ]
  },
  {
   "cell_type": "code",
   "execution_count": 20,
   "metadata": {},
   "outputs": [
    {
     "name": "stdout",
     "output_type": "stream",
     "text": [
      "No new data for ACTLISCOUUS. File is up to date.\n",
      "No new data for CSUSHPINSA. File is up to date.\n",
      "No new data for HOUST. File is up to date.\n",
      "No new data for MEDDAYONMARUS. File is up to date.\n",
      "No new data for MEHOINUSA672N. File is up to date.\n",
      "New data found for MORTGAGE30US. Updating file.\n",
      "No new data for MSACSR. File is up to date.\n",
      "No new data for MSPUS. File is up to date.\n",
      "No new data for NEWLISCOUUS. File is up to date.\n",
      "New data found for T10Y3M. Updating file.\n",
      "New data found for UNRATE. Updating file.\n"
     ]
    }
   ],
   "source": [
    "series_ids = [\n",
    "    \"ACTLISCOUUS\",\n",
    "    \"CSUSHPINSA\",\n",
    "    \"HOUST\",\n",
    "    \"MEDDAYONMARUS\",\n",
    "    \"MEHOINUSA672N\",\n",
    "    \"MORTGAGE30US\",\n",
    "    \"MSACSR\",\n",
    "    \"MSPUS\",\n",
    "    \"NEWLISCOUUS\",\n",
    "    \"T10Y3M\",\n",
    "    \"UNRATE\",\n",
    "]\n",
    "\n",
    "process_series_ids(series_ids, api_key)"
   ]
  },
  {
   "cell_type": "code",
   "execution_count": null,
   "metadata": {},
   "outputs": [],
   "source": []
  }
 ],
 "metadata": {
  "kernelspec": {
   "display_name": "py3115",
   "language": "python",
   "name": "python3"
  },
  "language_info": {
   "codemirror_mode": {
    "name": "ipython",
    "version": 3
   },
   "file_extension": ".py",
   "mimetype": "text/x-python",
   "name": "python",
   "nbconvert_exporter": "python",
   "pygments_lexer": "ipython3",
   "version": "3.11.5"
  }
 },
 "nbformat": 4,
 "nbformat_minor": 2
}
